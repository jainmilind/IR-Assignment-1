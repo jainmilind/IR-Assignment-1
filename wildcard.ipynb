{
 "cells": [
  {
   "cell_type": "code",
   "execution_count": 61,
   "metadata": {},
   "outputs": [],
   "source": [
    "import nltk\n",
    "from nltk.corpus import *\n",
    "from nltk.stem.porter import *\n",
    "import os\n",
    "from Constants import *\n",
    "import pickle\n",
    "from nltk.tokenize import sent_tokenize, word_tokenize\n",
    "from pathlib import Path"
   ]
  },
  {
   "cell_type": "code",
   "execution_count": 62,
   "metadata": {},
   "outputs": [],
   "source": [
    "# stemming porter object\n",
    "stemmer = PorterStemmer()\n",
    "root = Path(\".\")"
   ]
  },
  {
   "cell_type": "code",
   "execution_count": 63,
   "metadata": {},
   "outputs": [],
   "source": [
    "stop_words = set(stopwords.words('english'))"
   ]
  },
  {
   "cell_type": "code",
   "execution_count": 64,
   "metadata": {},
   "outputs": [],
   "source": [
    "my_path = root / \"Pickled_files\" / \"Inverted_index\"\n",
    "dbfile = open(my_path, 'rb')     \n",
    "inverted_idx = pickle.load(dbfile)\n",
    "dbfile.close()\n",
    "\n",
    "my_path = root / \"Pickled_files\" / \"Documents\"\n",
    "dbfile = open(my_path, 'rb')     \n",
    "docs = pickle.load(dbfile)\n",
    "dbfile.close()\n",
    "\n",
    "my_path = root / \"Pickled_files\" / \"Files\"\n",
    "dbfile = open(my_path, 'rb')     \n",
    "files = pickle.load(dbfile)\n",
    "dbfile.close()"
   ]
  },
  {
   "cell_type": "code",
   "execution_count": 65,
   "metadata": {},
   "outputs": [],
   "source": [
    "def isnumber(token):  \n",
    "    for char in token:\n",
    "        if not (char >= '0' and char <= '9'):\n",
    "            return False\n",
    "    return True"
   ]
  },
  {
   "cell_type": "code",
   "execution_count": 66,
   "metadata": {},
   "outputs": [],
   "source": [
    "def insert(word , root) : \n",
    "    cur = 0\n",
    "    for char in word : \n",
    "        if root[cur].get(char) == None : \n",
    "            root[cur][char] = len(root)\n",
    "            root.append(dict())\n",
    "        cur = root[cur][char]\n",
    "    root[cur][\"end\"] = True\n",
    "    if root[cur].get(\"cnt\") == None : \n",
    "        root[cur][\"cnt\"] = 0\n",
    "    root[cur][\"cnt\"] += 1"
   ]
  },
  {
   "cell_type": "code",
   "execution_count": 67,
   "metadata": {},
   "outputs": [],
   "source": [
    "def wildcard(word, root , is_suf) : \n",
    "    ans = list()\n",
    "    cur = 0\n",
    "    for char in word : \n",
    "        if root[cur].get(char) == None : \n",
    "            return ans\n",
    "        cur = root[cur][char]\n",
    "    vis = dict()\n",
    "    def dfs(token , id) : \n",
    "        if vis.get(id) != None : \n",
    "            return\n",
    "        vis[id] = 1\n",
    "        if root[id].get(\"cnt\") != None:\n",
    "            if is_suf : \n",
    "                token = token[::-1]\n",
    "            ans.append((token , root[id][\"cnt\"]))\n",
    "        for labels in root[id].keys() :\n",
    "            if len(labels) > 1 :\n",
    "                continue\n",
    "            new_str = token + labels\n",
    "            dfs(new_str , root[id][labels])\n",
    "    dfs(word , cur)\n",
    "    ans = sorted(ans , key = lambda y : -y[1])\n",
    "    ret_list = list()\n",
    "    for i in range(min(3 , len(ans))) :\n",
    "        ret_list.append(ans[i])\n",
    "    return ret_list"
   ]
  },
  {
   "cell_type": "code",
   "execution_count": 68,
   "metadata": {},
   "outputs": [],
   "source": [
    "Prefix = list()\n",
    "Prefix.append(dict())\n",
    "Suffix = list()\n",
    "Suffix.append(dict())"
   ]
  },
  {
   "cell_type": "code",
   "execution_count": 69,
   "metadata": {},
   "outputs": [],
   "source": [
    "for sentence in docs: \n",
    "    sentence = sentence[0]\n",
    "    tokens = nltk.tokenize.word_tokenize(str(sentence))\n",
    "    new_token = list()\n",
    "    for i in tokens:\n",
    "        new_token.append(i.lower())\n",
    "    tokens = new_token\n",
    "    for words in new_token: \n",
    "        if words in stop_words or len(words) <= 2 or isnumber(words): \n",
    "            continue\n",
    "        insert(words , Prefix)\n",
    "        insert(words[::-1] , Suffix)"
   ]
  },
  {
   "cell_type": "code",
   "execution_count": 70,
   "metadata": {},
   "outputs": [],
   "source": [
    "my_path = root / \"Pickled_files\" / \"Prefix_wildcard\"\n",
    "dbfile = open(my_path, 'wb')\n",
    "pickle.dump(Prefix, dbfile) \n",
    "dbfile.close()\n",
    "\n",
    "my_path = root / \"Pickled_files\" / \"Suffix_wildcard\"\n",
    "dbfile = open(my_path, 'wb')\n",
    "pickle.dump(Suffix, dbfile) \n",
    "dbfile.close()"
   ]
  },
  {
   "cell_type": "code",
   "execution_count": 71,
   "metadata": {},
   "outputs": [],
   "source": [
    "my_path = root / \"Pickled_files\" / \"Prefix_wildcard\"\n",
    "dbfile = open(my_path, 'rb')     \n",
    "Prefix = pickle.load(dbfile)\n",
    "dbfile.close()\n",
    "\n",
    "my_path = root / \"Pickled_files\" / \"Suffix_wildcard\"\n",
    "dbfile = open(my_path, 'rb')     \n",
    "Suffix = pickle.load(dbfile)\n",
    "dbfile.close()"
   ]
  },
  {
   "cell_type": "code",
   "execution_count": 72,
   "metadata": {},
   "outputs": [],
   "source": [
    "def query(word , type) : \n",
    "    ans = set()\n",
    "    if type : \n",
    "        word_list = wildcard(word , Suffix , True)\n",
    "    else :\n",
    "        word_list = wildcard(word , Prefix , False)\n",
    "    for words in word_list :\n",
    "        normalized_word = stemmer.stem(words[0])\n",
    "        if inverted_idx.get(normalized_word) != None : \n",
    "            for i in range(min(len(inverted_idx[normalized_word]), 2)):\n",
    "                ans.add((docs[inverted_idx[normalized_word][i][0]][0], files[inverted_idx[normalized_word][i][1]]))\n",
    "    return ans"
   ]
  },
  {
   "cell_type": "code",
   "execution_count": 73,
   "metadata": {},
   "outputs": [
    {
     "name": "stdout",
     "output_type": "stream",
     "text": [
      ".\\Docs\\Property\\Property-Owner-Policy-Wording.docx\n",
      "documents documents belonging to the insured or held by the insured in trust , whilst at premises not being the insured ’ s premises , or in transit by road , rail or inland waterway.specified illnesses contingencies any occurrence of a specified illness at the premises , except where the premises is a private dwelling any discovery of an organism at the premises likely to result in the occurrence of a specified illness , except where the premises is a private dwelling any occurrence of legionellosis at the premises d the discovery of vermin or pests at the premises e any accident causing defects in the drains or other sanitary arrangements at the premises which causes restrictions on the use of the premises on the order or advice of the competent local authority.special provisions ‘ specified illness ’ shall mean illness sustained by any person resulting from food or drink poisoning , or acute encephalitis , acute poliomyelitis , anthrax , chickenpox , cholera , diphtheria , dysentery , leprosy , leptospirosis , malaria , measles , meningococcal infection , mumps , opthalmia neonatorum , paratyphoid fever , plague , rabies , rubella , scarlet fever , smallpox , tetanus , tuberculosis , typhoid fever , viral hepatitis , whooping cough or yellow fever an outbreak of which the competent local authority has stipulated shall be notified to them . \n",
      ".\\Docs\\Property\\complete-property-owner-policy-wording-policies-incepting-or-renewing-from-010418-acom686-11.docx\n",
      "documents documents belonging to the insured or held by the insured in trust , whilst at premises not being the insured ’ s premises , or in transit by road , rail or inland waterway.specified illnesses contingencies any occurrence of a specified illness at the premises , except where the premises is a private dwelling any discovery of an organism at the premises likely to result in the occurrence of a specified illness , except where the premises is a private dwelling any occurrence of legionellosis at the premises the discovery of vermin or pests at the premises any accident causing defects in the drains or other sanitary arrangements at the premises which causes restrictions on the use of the premises on the order or advice of the competent local authority.special provisions 1 ‘ specified illness ’ shall mean illness sustained by any person resulting from food or drink poisoning , or acute encephalitis , acute poliomyelitis , anthrax , chickenpox , cholera , diphtheria , dysentery , leprosy , leptospirosis , malaria , measles , meningococcal infection , mumps , opthalmia neonatorum , paratyphoid fever , plague , rabies , rubella , scarlet fever , smallpox , tetanus , tuberculosis , typhoid fever , viral hepatitis , whooping cough or yellow fever an outbreak of which the competent local authority has stipulated shall be notified to them . \n",
      ".\\Docs\\Property\\Residential-Property-Owners-Policy-Wording-1910.docx\n",
      "once you have gained possession of your residential property the most we will pay shall be 75 % of the monthly rent that was previously payable for a maximum further period of two months provided that you agree to re-let your residential property where an offer equal to or greater than 85 % of the preceding rent is offered you are responsible for the first unpaid month ’ s rent ( which you have collected as a deposit ) and after that the maximum rent we will pay is 5 months for a 6 month policy or 11 months for a 12 month policy conditions relating to b – rent indemnity you must : have signed a tenancy agreement with each tenant before you allow occupation of the residential property obtain , prior to granting the tenancy a satisfactory reference for the tenant from a previous managing agent or previous landlord and an employer or ( other financial source ) and a credit history check ( including county court judgements the enforcement of judgements office and bankruptcy ) where a guarantor is required only items c and d will apply to the guarantor not grant the tenancy if you are in any doubt of the integrity or the financial standing of the tenant or their guarantor ensure that all conditions on the reference report are met and be able to demonstrate this not enter into a tenancy agreement where a person has been requested to stand surety for the tenant unless that person has entered into a legally enforceable agreement in your favour not allow a tenant to occupy the residential property until the first month ’ s rent in advance and one month ’ s rent as a deposit has been paid in cash or payment has cleared in your bank account comply with laws regarding tenant deposits before allowing a tenant to occupy the residential property keep up-to-date rental records ensure that where a tenant makes a payment of arrears , such payment is received on the express understanding that it is being taken on account of the longest outstanding sum of arrears that are due and is received without any prejudice to any termination notice and/or proceedings agree to us setting off any retained deposit against the tenant ’ s outstanding rent exceptions under this section you are not insured for any claim arising from or relating to legal costs & expenses incurred without our consent any actual or alleged act omission or dispute occurring prior to or existing at the inception of this section of the policy and which you believed or ought reasonably to have believed could give rise to a claim any claim occurring during the first 90 days of the first period of insurance where the tenancy agreement started before the start of this section of the policy ( except where you have had equivalent cover in force immediately before the start of this section of the policy ) an allegation or prosecution against you involving assault violence indecent or obscene materials dishonesty malicious falsehood the manufacture dealing in or use of alcohol illegal drugs illegal immigration offences under part 7 of the proceeds of crime act 2002 ( money laundering offences ) registering assessing or reviewing rent rent control leasehold valuation or the jurisdiction of the first-tier tribunal ( property chamber ) a residential property which is or should have been registered as a house of multiple occupation a judicial review a dispute with us or the party who arranged this cover not dealt with under arbitration a managing agent or the party who sold you this section of the policy conditions which apply to this section failure to keep to any of these conditions without good reason will lead us to cancel your policy refuse a claim or withdraw from an ongoing claim we also reserve the right to recover legal costs & expenses from you should this occur your responsibilities you must tell us immediately of anything that may make it more costly or difficult for the appointed advisor to resolve the claim in your favour cooperate fully with us give the appointed advisor any instructions we require and keep them updated with progress of the claim and not hinder them take reasonable steps to recover legal costs & expenses and where recovered pay them to us keep legal costs & expenses as low as possible allow us at any time to take over and conduct in your name any claim freedom to choose an appointed advisor in certain circumstances as set out in b. below you may choose an appointed advisor in all other cases no such right exists and we shall choose the appointed advisor if we agree to start proceedings or proceedings are issued against you or there is a conflict of interest you may choose a qualified appointed advisor except where your claim is to be dealt with by the small claims court where unless there is a conflict of interest we will always choose the appointed advisor where you wish to exercise the right to choose you must write to us with your preferred representative ’ s contact details our consent you must agree to us having sight of the appointed advisor ’ s file relating to your claim you are considered to have provided consent to us or our appointed agent to have sight of the file for auditing and quality and cost control purposes settlement we can settle the claim by paying the reasonable value of your claim you must not negotiate settle the claim or agree to pay any legal costs & expenses incurred without our written agreement if you refuse to settle the claim following advice to do so from the appointed advisor we reserve the right to refuse to pay any further legal costs & expenses barrister ’ s opinion we may require you to obtain and pay for an opinion from a barrister if a dispute arises regarding the merits or value of the claim if the opinion supports you then we will reimburse the reasonable costs of that opinion if that opinion conflicts with advice obtained by us then we will pay for a final opinion which shall be binding on you and us this does not affect your right under arbitration below arbitration if any dispute between you and us arises from this section of the policy you can make a complaint to us as described in the complaints section of this policy and we will try and resolve the matter if we are unable to satisfy your concerns and the matter can be dealt with by the financial ombudsman service you can ask them to arbitrate over the complaint if the dispute can not be dealt with by the financial ombudsman service it can be referred for independent arbitration to a qualified person agreed upon by both parties the loser of the dispute shall be liable to pay the costs incurred if we fail to agree on a suitable person to arbitrate the matter we will ask the president of the relevant law society to nominate the arbitration shall be subject to the arbitration acts and the arbitrator ’ s decision shall be binding on the parties acts of parliament statutory instruments civil procedure rules & jurisdiction all legal instruments and rules referred to within this section of the policy shall include equivalent legislation in scotland and any subsequent amendment or replacement legislation this policy will be governed by the law of england and wales extended loss of rental income section definitions the following definitions apply to this section and shall keep the same meaning wherever they appear in the section they should also be read in conjunction with the general definitions at the start of the policy damage loss of or damage to the property used by you at the premises for the purpose of the business indemnity period the period beginning with the occurrence of the damage and ending not later than the maximum indemnity period thereafter during which the results of the business shall be affected in consequence thereof maximum indemnity period the period stated in the schedule unless amended in any additional contingency rent receivable the money paid or payable to you by tenants for rental of the premises and for the services provided in connection with the business at the premises estimated rent receivable the amount declared by you to us as representing not less than the rent receivable which it is anticipated will be earned by the business during the financial year most nearly concurrent with the period of insurance ( or a proportionately increased multiple thereof where the maximum indemnity period exceeds twelve months ) to which such adjustments shall be made as may be necessary to provide for the trend of the business and for variations in or other circumstances affecting the business either before or after the damage or which would have affected the business had the damage not occurred so that the figures thus adjusted shall represent as nearly as may be reasonably practicable the results which but for the damage would have been obtained during the relative period after the damageannual rent receivable the rent receivable during the twelve months immediately before the date of the damage standard rent receivable the rent receivable during that period in the twelve months immediately before the date of the damage which corresponds with the indemnity period cover in respect of each item in the schedule we will indemnify you in respect of loss resulting from interruption of or interference with the business carried on by you at the premises in consequence of damage occurring during the period of insurance caused by the operation of a contingency under the property damage section of the policy unless otherwise stated in the schedule provided that payment shall have been made or liability admitted for the damage under an insurance covering your interest in the property or payment would have been made or liability admitted for the damage but for the operation of a provision in such insurance excluding liability for losses below a specified amount limit of liability our liability under this section shall not exceed 200 % of the estimated rent receivable shown in the schedule and 100 % of the sum insured shown in the schedule for each other item or extension stated in the schedule unless otherwise agreed by us basis of settlement the following items of settlement apply only if the paragraph title appears in the schedule rent receivable or estimated rent receivable the insurance under this item is limited to ( 1 ) loss of rent receivable and ( 2 ) increase in cost of working and the amount payable as indemnity thereunder shall be in respect of the loss of rent receivable the amount by which the rent receivable during the indemnity period shall fall short of the standard rent receivable in consequence of the damage in respect of increase of cost of working the additional expenditure necessarily and reasonably incurred for the sole purpose of avoiding or diminishing the loss of rent receivable which but for the expenditure would have taken place during the indemnity period in consequence of the damage but not exceeding the amount of the reduction in rent receivable thereby avoided less any sum saved during the indemnity period in respect of such of the expenses and charges payable out of rent receivable as may cease or be reduced in consequence of the damage if the sum insured by the item on rent receivable be less than the annual rent receivable ( or at a proportionately increased multiple thereof where the maximum lndemnity period exceeds twelve months ) the amount payable shall be proportionately reduced prevention of access we will indemnify you in respect of damage to property in the vicinity of the premises as a result of damage caused by any of the contingencies insured under the property damage section which prevents or hinders use of or access to the premises whether the premises have been damaged or not the maximum we will pay is the sum insured as stated in the schedule section extensions auditors and professional accountants and legal fees included within the rent receivable or estimated rent receivable item is an allowance for auditors professional accountants and solicitors reasonable charges for producing information we required for investigating any claim and confirming the information is in accordance with your business books determining your contractual rights under any rent cessor clause or insurance break clause contained in the lease the maximum we will pay for any claim including auditors and professional accountants and solicitors charges is the sum insured buildings awaiting sale if at the time of damage you have contracted to sell your interest in the buildings and the sale is cancelled or delayed solely due to the damage we will pay at your option either the loss of rent receivable from the date of damage until the buildings would have been sold or the expiry of the indemnity period if earlier or the loss in respect of interest from the date the buildings would have been sold if the damage had not occurred to the actual date of sale or the expiry of the indemnity period if earlier the loss in respect of interest being the actual interest incurred on capital borrowed ( solely to offset in whole or in part the loss of use of the sale proceeds ) for the purpose of financing the business the investment interest lost to you on any balance of the sale proceeds ( after deduction of any capital borrowed as provided for under paragraph a ) above ) less any amount of rent receivable we will also pay with our written consent additional expenditure being the expenditure necessarily and reasonably incurred during the indemnity period following damage solely to avoid or minimise the loss payable under a ) and b ) above capital additions rent receivable we will pay for loss of rent receivable for any newly acquired or newly erected buildings or alterations additions or extensions to buildings covered under the property damage section that is not otherwise insured provided that the most we will pay at one situation is 10 % of the sum insured under this section up to a maximum of £100,000 during any one period of insurance you must tell us as soon as possible of any extension of cover as detailed above and take out insurance cover from the date our liability commenced contracting purchaser ’ s interest between you contracting to sell your interest in any of the premises and the completion of the purchase by a third party if damage occurs which is not otherwise insured by the third party on completion the third party will be entitled to benefit under this section without prejudice to the rights and liabilities of you or us cost of reletting we will pay costs that you necessarily and reasonably incur in reletting the premises ( including legal fees ) solely in consequence of damage the maximum we will pay is the sum insured in respect of the buildings affected by the damage inadvertent failure to insure buildings owned by you in great britain northern ireland the channel islands or the isle of man for which you have an obligation to insure ( whether owned or leased to you ) but which have inadvertently been left uninsured the maximum we will pay at any one premises is £100,000 in respect of loss of rent receivable you must advise us in writing immediately you become aware of a premises inadvertently left uninsured and pay the appropriate premium due from the date the insurance becomes your responsibility you must carry out at not less than twelve months intervals a check of all properties owned or leased by you and for which you are responsible to ensure that effective insurance is in force on each of them we will not indemnify you in respect of any building more specifically insured any appreciation in value subrogation waiver in the event of a claim arising under this section we agree to waive any rights remedies or relief to which we might become entitled by subrogation against any company standing in the relationship of parent to subsidiary ( subsidiary to parent ) to you as defined in the companies acts or companies ( ni ) order as appropriate current at the time of damage any company which is a subsidiary of a parent company of which you are a subsidiary in each case within the meaning of the companies acts or companies ( ni ) order as appropriate current at the time of damage any tenant or lessee in respect of loss of rent receivable unless the loss of rent receivable is caused by a criminal or malicious act of the tenant or lessee conditions automatic reinstatement of loss unless there is written notice by us to the contrary in the event of damage under this section we shall automatically reinstate the sum insured provided that you undertake to pay the appropriate additional premium cessation of trading this section shall be avoided if the business is wound up or carried on by a liquidator or receiver or permanently discontinued at any time after the commencement of the period of insurance unless we give our written consent payments on account claims payments on account may be made to you during the indemnity period if required renewal you will supply prior to each renewal the estimated rent receivable for the financial year most closely corresponding to the following period of insurance statutory inspection of plant any item of plant or machinery belonging to you or under your control which requires to be examined to comply with any statutory regulations must be inspected in accordance with such regulations failure to comply with this will invalidate cover in respect of an explosion originating within and causing damage to the item of plant value added tax to the extent that you are accountable to the tax authorities for value added tax all terms in this section shall be exclusive of such tax additional contingencies public utilities – water gas or electricity we will indemnify you in respect of interruption or interference with the business as a result of accidental failure of your public supply of electricity gas or water at the terminal ends of your suppliers service feeders to the premises we will not indemnify you in respect of accidental failure which lasts less than 4 hours a deliberate act of the supply undertaking unless for the sole purpose of safeguarding life or protecting any part of the supply undertaking system accidental failure caused by the exercise of any supply authority ’ s power to withdraw or restrict supply or services any industrial action drought or other weather conditions unless equipment has been damaged other than in great britain northern ireland the channel islands or the isle of man the maximum we will pay under this additional contingency is £50,000 in respect of any one loss unless otherwise stated in the schedule telecommunications we will indemnify you in respect of interruption or interference with the business as a result of accidental failure of the public supply of telecommunication services at the incoming line terminals or receivers at the premises we will not indemnify you in respect of accidental failure lasting less than 24 consecutive hours caused by any industrial action or other deliberate act of the supply undertaking unless for the sole purpose of safeguarding life or protecting any part of the supply undertaking system caused by the exercise of any supply authority ’ s power to withdraw or restrict supply or services caused by atmospheric or other weather conditions unless equipment has been damaged caused by those conditions other than in great britain northern ireland the channel islands or the isle of man caused by failure of any satellite the maximum we will pay under this additional contingency is £50,000 in respect of any one loss unless otherwise stated in the schedule public emergency we will indemnify you in respect of loss resulting from interruption or interference with the business as a result of the actions or advice of a government or local authority due to an emergency likely to endanger life or property in the vicinity of the premises which prevents or hinders the use of or access to the premises excluding any incident lasting less than 12 hours any period other than the actual period when access to the premises was prevented a notifiable human infectious or contagious disease as defined in the current legislation occurring at the premises the maximum we will pay under this extension is £100,000 in respect of the total of all losses occurring during the period of insurance unless otherwise stated in the schedule the provisions of any automatic reinstatement condition do not apply in respect of this additional contingency legionella we will indemnify you in respect of loss resulting from interruption or interference with the business as a result of any outbreak of legionellosis at the premises causing restrictions on the use of the premises on the order or advice of the competent authority maximum indemnity period – three months the maximum we will pay under this extension is £25,000 ( or the limit as detailed in the schedule ) in respect of the total of all losses occurring during the period of insurance condition applicable to additional contingency legionella if in relation to any claim arising directly or indirectly from an occurrence of legionellosis or legionnaires disease you have failed to fulfil the following condition you will lose your right to indemnity or payment for that claim at the premises you must ensure compliance at all times with the health and safety commissions approved code of practice “ the prevention and control of legionellosis ( including legionnaires disease ) ” ref isbn-0-7176-1772-6 or any supplementary replacement or amending code of practice terrorism section section definitions the following definitions apply to this section and shall keep the same meaning wherever they appear within the section and they should also be read in conjunction with the general definitions at the start of the policy act of sabotage means a subversive act or series of such acts committed for political , religious or ideological purposes including the intention to influence any government and/or to put the public in fear for such purposes act of terrorism means an act or series of acts including the use of force or violence of any person or group ( s ) of persons whether acting alone or on behalf of or in connection with any organisation ( s ) committed for political religious or ideological purposes including the intention to influence any government and/or to put the public in fear for such purposes occurrence shall mean any one loss or series of losses arising out of and directly occasioned by any one act or series of acts of terrorism or acts of sabotage for the same purpose or cause sustained by you at the premises during any period of 72 consecutive hours arising out of the same purpose or cause however no such period of 72 consecutive hours may extend beyond the expiration of this policy unless you shall first sustain direct physical damage by an act of terrorism or an act of sabotage prior to expiration and within said period of 72 consecutive hours nor shall any period of 72 consecutive hours commence prior to the attachment of this policy private individual any person other than a business partnership a trustee or body of trustees or trust beneficiary where insurance is arranged under the terms of a trust an executor of a will or the beneficiary of such will a person who insures residential property for the purpose of their business as a sole trader a person who insures residential property of which in excess of 20 per cent of the property is commercially occupied note where the residential property is occupied in part by a sole trader business partner trustee or executor of a will or beneficiary of such will or trust as as their own private residence each will be deemed to be a private individual in respect of that same property unless in excess of 20 per cent of the residential property is commercially occupied where two or more persons have arranged insurance on residential property in their several names and/or the name of the policyholder includes the name of a bank or a building society or other financial institution for the purpose of noting their interest in the property insured they will be deemed to be a private individual in respect of that property property insured all property as detailed in the schedule residential property private dwelling houses flats household contents and personal effects territorial limits england wales and scotland but not the territorial seas adjacent thereto as defined by the territorial seas act 1987 this shall include the channel tunnel up to the frontier with the republic of france as set out by the treaty of canterbury this excludes northern ireland the isle of man and the channel islands cover we will indemnify you in respect of any one occurrence of loss or damage to property insured caused by an act of terrorism or act of sabotage during the period of insurance within the territorial limits the maximum we will pay under this section in any one period of insurance will not exceed the limit of liability or sum insured or a limited specified in any extension under the property damage or extended loss of rental income sections provided always that insurance by this section is not subject to the general exceptions is subject otherwise to all general terms and conditions except where expressly varied within this section.exceptions the following exceptions apply to this section we will not indemnify you in respect of loss or damage by electronic means including but not limited to computer hacking or the introduction of any form of computer virus or corrupting or unauthorised instructions or code or the use of any electromagnetic weapon we will not indemnify you in respect of loss or damage caused by or happening through riot civil commotion war invasion act of foreign enemy hostilities ( whether war be declared or not ) civil war rebellion revolution insurrection or military or usurped power we will not indemnify you in respect of damage or any other loss or expense resulting or arising from damage to any property or any consequential loss directly or indirectly caused by or contributed to by or in connection with or arising from biological or chemical pollution or contamination we will not indemnify you in respect of loss or damage arising directly or indirectly from nuclear detonation nuclear reaction nuclear radiation or radioactive contamination however such nuclear detonation nuclear reaction nuclear radiation or radioactive contamination may have been caused we will not indemnify you in respect of loss or destruction of or damage to residential property insured in the name of a private individual engineering inspection section inspection service contract definitions the following words have been given the specific meaning set forth below and have the same meaning wherever they appear in the contract whether singular or plural normal working hours 8:00 am to 6:00 pm monday to friday excluding public bank and local holidays competent person an engineer surveyor employed and authorised by us to perform inspection service plant the machinery appliances and equipment as detailed to us inspection service thorough examination of plant in accordance with the requirements of such statutory regulations as apply to the plant or inspection of plant in compliance with good established engineering practice unless otherwise agreed in writing this term shall not include approval or verification of the fitness for purpose of any design or design features of plant performing or witnessing tests of a non-routine nature including but not limited to ultrasonic radiographic hydrostatic or other non-destructive examination or in the case of lifting and handling plant any proof load stability anchorage or similar test we shall periodically perform thorough examination/inspection of plant within normal working hours provide a written report of the thorough examination/inspection within a reasonable time provision of inspection service we shall comply with your safe systems of work provided such systems are notified to us in advance of any visit we may refuse to carry out any inspection service if at our sole discretion to do so would pose a health safety or welfare risk appoint sub-contractors to carry out all or any part of the inspection service make a charge in addition to the fee shown in the schedule if you request and we agree to perform inspection service outside normal working hours you require additional copies of reports you fail to prepare or make the plant available at the date and time agreed you require additional services or you require the competent person to undertake training specific to your own health safety and welfare procedures client responsibilities you shall be responsible for the care custody and control of the plant at all times allow us access to your site or site of operation and plant at such reasonable times as shall be agreed provide us with a safe working environment on the site on which the plant is located a safe physical means by which to gain access to perform the inspection service have the plant properly prepared dismantled and reassembled as necessary in order to enable us to carry out the appropriate inspection service cooperate with and upon request provide us with information and data relating to the plant as required in order to perform the inspection service fees we shall charge fees for the provision of the inspection service and such fees shall be subject to value added tax at the appropriate rate you shall pay the fee shown in the schedule at the beginning of the contract and at subsequent renewals of the contract if you add or delete premises during the contract term the fee will be adjusted term and termination the term of this contract is as shown in the schedule either party may terminate this contract by giving 30 days written notice to the other party if the other commits any breach of the contract confidentiality unless otherwise agreed all reports and similar material prepared by us in connection with inspection service shall be released only to you or your designated representative we may use data gathered in connection with inspection service for statistical purposes limitation of liability and indemnification neither we nor any of our employees shall be liable directly or indirectly for any damage or injury to property or persons resulting from any accident or defect in any plant nor shall we be liable directly or indirectly for loss damage or injury of any kind arising from or connected in any way with any inspection service or documentation of any inspection service or from the omission of any inspection service or documentation of any inspection service whether or not such inspection service documentation or omission was at your request neither we nor any of our employees makes any warranty express or implied concerning the activities described in this contract notwithstanding anything else in this contract to the contrary to the fullest extent permitted by law we shall not be liable to you for any special incidental indirect consequential or exemplary damages including but not limited to loss of profits or revenue loss of use loss of opportunity loss of goodwill cost of substitute facilities goods or services cost of capital governmental and regulatory sanctions and claims of third parties for such damages the total cumulative liability of us to you whether in tort or in contract for all claims losses damages and expenses resulting in any way from this contract shall not be greater than the total amount received by us from you as compensation during the contract term specified in the schedule except in the case of death or personal injury caused by our negligence or in other circumstances where liability may not be so limited under applicable law our liability under or in connection with this contract whether arising in contract tort negligence breach of statutory duty or otherwise shall not exceed the sum of £5,000,000 ( five million pounds ) upon completion of the inspection service or termination of this contract the provisions relating to indemnity waivers limitations of remedies and limitations of liability including but not limited to those contained in this section shall remain in full force and effect force majeure we shall not be liable for any delay or the consequences of any delay if such delay is due to any cause beyond our reasonable control and shall be entitled to a reasonable extension of time for performance of the contract general all matters relating to the validity performance or interpretation of this contract shall be governed by the laws of england and wales we and you hereby submit to the exclusive jurisdiction of the courts of england and wales no term of this contract is intended either expressly or by implication or other inference to purport to confer a benefit or right of action upon any third party no such third party ( whether or not in existence at the date of this contract ) is named or described herein the contracts ( rights of third parties ) act 1999 is expressly excluded to the fullest extent permitted by law the provision of inspection service under this contract does not relieve the client of any statutory obligation to have the plant inspected inspection service will only be subcontracted to suitably qualified subcontractors with the agreement of both parties and we shall retain responsibility for the execution of such work arch uk regional division arch insurance ( uk ) limited , 5th floor , plantation place south , 60 great tower street , london ec3r 5az – ( fca register no 229887 ) authorised by the prudential regulation authority and regulated by the financial conduct authority and the prudential regulation authority.the arch insurance group includes fca registered companies , such as thomas underwriting agency limited ( fca number 304302 ) and axiom underwriting agency limited ( fca number 441460 ) , registered at the address provided , who may act as intermediaries for certain insurers . \n",
      ".\\Docs\\Property\\BRIT-PO-Policy-Wording-May-2016-1.docx\n",
      "recovery of rent arrears the insurer agrees to indemnify the insured against legal expenses incurred by the insured in trying to recover any arrears of rent owed to the insured in respect of any insured premises up to the date on which vacant possession of the insured premises is obtained provided that the insured must give the tenant correct notices criminal proceedings the insurer agrees to indemnify the insured against legal expenses incurred by the insured as a result of any criminal proceedings first initiated against the insured and notified to the insurer during the period of insurance provided that the criminal proceedings directly relate to the letting of the insured premises.exclusion to section 6 the insurer shall not be liable for the excess of gbp 250 any one occurrence ; any claim where the any legal expenses or legal action incurred without or prior to the claims manager ’ s written consent ; any claim arising out of any dispute between the insurer , the insured , the claims managers or the insured ’ s appointed representative ; any claim arising directly or indirectly out of any judicial review ; any claim covered under any other policy or any claim that would have been covered by any other policy if this section did not exist ; any claim , cause , event or circumstance that the insured had known or should reasonably have had knowledge of prior to the inception of the policy ; any claim if , either at the commencement of or during the course of a claim notified under this section , the insured a is declared bankrupt or has filed a bankruptcy or winding up petition b has made an arrangement with creditors or has entered into a deed arrangement , c is in liquidation or part or all of the insured ’ s affairs or property are in the care or control of a receiver or administrator.any punitive or exemplary damages , compensations , fines or any penalties of whatsoever nature which the insured is ordered to pay by a forum , authority or body of competent jurisdiction ; in respect of coverage clause 1 eviction of squatters only : - a legal expenses incurred in relation to any dispute where the cause of action involves the insured ’ s legitimate tenant ; b any claim resulting from the occupation of the insured premises or part thereof by squatters prior to the inception of this policy ; c any action consciously taken by the insured that hinders the insurer or appointed representative or adversely affects the course of the legal proceedings initiated for the eviction of squatters ; in respect of coverage clause 5 criminal proceedings only , arising out of any criminal proceedings or allegations in respect of : the ownership , possession of or use of any vehicle ; or any investigation by hmrc or the department for work and pensions ; or assault , violence , fraud , conspiracy to defraud , dishonesty or malicious falsehood ; or the manufacture , dealing in or use of alcohol , illegal drugs or indecent or obscene materials ; or any illegal immigration ; or any money laundering offence under part 7 of the proceeds of crime act 2002 ; or bribery and corruption ; contravention of sanctions . \n"
     ]
    }
   ],
   "source": [
    "results = query(\"ill\" , False)\n",
    "for i in results : \n",
    "    print(i[1])\n",
    "    print(i[0])"
   ]
  }
 ],
 "metadata": {
  "kernelspec": {
   "display_name": "Python 3 (ipykernel)",
   "language": "python",
   "name": "python3"
  },
  "language_info": {
   "codemirror_mode": {
    "name": "ipython",
    "version": 3
   },
   "file_extension": ".py",
   "mimetype": "text/x-python",
   "name": "python",
   "nbconvert_exporter": "python",
   "pygments_lexer": "ipython3",
   "version": "3.8.8"
  },
  "vscode": {
   "interpreter": {
    "hash": "ad2bdc8ecc057115af97d19610ffacc2b4e99fae6737bb82f5d7fb13d2f2c186"
   }
  }
 },
 "nbformat": 4,
 "nbformat_minor": 2
}
