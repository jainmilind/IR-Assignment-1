{
 "cells": [
  {
   "cell_type": "markdown",
   "id": "0585744d",
   "metadata": {},
   "source": [
    "# Ranking documents based on tfidf scores\n",
    "\n",
    "TF-IDF is a technique used to evaluate the importance of words in a document or corpus. It measures the frequency of a word in a document (TF) and the importance of a word in a corpus (IDF). The score for a word is obtained by multiplying its TF and IDF values. This method is widely used in information retrieval systems to rank documents by relevance to a query."
   ]
  },
  {
   "cell_type": "code",
   "execution_count": 1,
   "id": "b38f957f",
   "metadata": {},
   "outputs": [],
   "source": [
    "from nltk.corpus import *\n",
    "from nltk.stem.porter import *\n",
    "import pickle\n",
    "from pathlib import Path\n",
    "import warnings\n",
    "warnings.filterwarnings('ignore')"
   ]
  },
  {
   "cell_type": "markdown",
   "id": "cbd5b85f",
   "metadata": {},
   "source": [
    "## Setup\n",
    "\n",
    "#### The corpus/documents are extracted from the pickle files.\n",
    "#### The inverted_index built already is extracted , which would be used for extracting term and document frequencies."
   ]
  },
  {
   "cell_type": "code",
   "execution_count": 2,
   "id": "a43073cf",
   "metadata": {},
   "outputs": [],
   "source": [
    "stemmer = PorterStemmer()\n",
    "stop_words = set(stopwords.words('english'))\n",
    "root = Path(\"../\")\n",
    "\n",
    "my_path = root / \"Pickled_files\" / \"Documents\"\n",
    "dbfile = open(my_path, 'rb')     \n",
    "documents = pickle.load(dbfile)\n",
    "dbfile.close()\n",
    "\n",
    "my_path = root / \"Pickled_files\" / \"Inverted_index\"\n",
    "dbfile = open(my_path, 'rb')     \n",
    "inverted_index = pickle.load(dbfile)\n",
    "dbfile.close()"
   ]
  },
  {
   "cell_type": "markdown",
   "id": "adf6a659",
   "metadata": {},
   "source": [
    "## Algorithm\n",
    "\n",
    "The TF-IDF scoring algorithm calculates a score for each term in the query and each document in the collection, using the following formula:\n",
    "\n",
    "**TF-IDF(term, document) = TF(term, document) * IDF(term)**\n",
    "\n",
    "where TF(term, document) is the term frequency of the term in the document, and IDF(term) is the inverse document frequency of the term. The term frequency represents the number of times a term appears in a document, while the inverse document frequency represents the rarity of the term across the collection of documents.\n",
    "\n",
    "The TF-IDF score for each term in the query is calculated in the same way. Then, for each document, the algorithm calculates the dot product between the query's TF-IDF scores and the document's TF-IDF scores. The resulting score represents the relevance of the document to the query string.\n",
    "\n",
    "By ranking the documents based on their scores, the algorithm can identify the most relevant documents for a given query. This technique is widely used in search engines and other information retrieval applications, as it provides an effective way to match documents to user queries."
   ]
  },
  {
   "cell_type": "markdown",
   "id": "ccbf1c5a",
   "metadata": {},
   "source": [
    "## Implementation\n",
    "\n",
    "The rank_docs_by_tfidf function is a Python implementation of the TF-IDF (Term Frequency-Inverse Document Frequency) algorithm used for ranking documents based on their relevance to a given query string.\n",
    "\n",
    "The function takes a query string as input and returns a list of document IDs that are ranked in descending order of their relevance to the query. The algorithm first processes the query string by removing stop words and stem each term using a stemming algorithm to reduce them to their root forms.\n",
    "\n",
    "Then, the algorithm calculates the TF-IDF score for each term in the query. It multiplies the term frequency in the query with the inverse document frequency (IDF) of the term. For each document that contains the term, it multiplies the document's TF-IDF score with the query's TF-IDF score for that term and adds the result to the document's score.\n",
    "\n",
    "Finally, the algorithm returns a list of document IDs sorted in descending order of their scores. This allows the user to quickly identify the documents that are most relevant to the query string."
   ]
  },
  {
   "cell_type": "code",
   "execution_count": 3,
   "id": "ef365a14",
   "metadata": {},
   "outputs": [],
   "source": [
    "def rank_docs_by_tfidf(query):\n",
    "    query_terms = (query.split(\" \"))\n",
    "    query_term_freq = {}\n",
    "    query_terms = [term.lower() for term in query_terms if term.lower() not in stop_words]\n",
    "    for term in query_terms:\n",
    "        if query_term_freq.get(term) == None:\n",
    "            query_term_freq[term] = 0\n",
    "        query_term_freq[term] += 1\n",
    "    query_terms = list(query_term_freq.keys())\n",
    "    \n",
    "    document_scores = {}\n",
    "    for i in range(len(documents)):\n",
    "        document_scores[i] = 0\n",
    "    \n",
    "    for term in query_terms:\n",
    "        qtf = query_term_freq[term]\n",
    "        document_freq = 1\n",
    "        normalised_term = stemmer.stem(term)\n",
    "        if inverted_index.get(normalised_term) != None:\n",
    "            document_freq += len(inverted_index[normalised_term])\n",
    "            query_score = qtf * (1/document_freq)\n",
    "            for doc in inverted_index[normalised_term]:\n",
    "                doc_score = doc[2]*(1/document_freq)\n",
    "                document_scores[doc[0]] += query_score*doc_score\n",
    "\n",
    "    ranked_docs = [doc[0] for doc in sorted(document_scores.items(),key=lambda x:x[1])[::-1]]\n",
    "    return ranked_docs"
   ]
  },
  {
   "cell_type": "markdown",
   "id": "f72660f6",
   "metadata": {},
   "source": [
    "## Sample Queries for testing the algorithm\n",
    "\n",
    "The query string is initialized and then passed to the rank_docs_by_tfidf function, which returns a list of document IDs ranked in descending order of their relevance to the query.The for loop is then used to print the top 3 documents that are most relevant to the query string. The loop iterates for a maximum of 3 times or the number of documents available, whichever is minimum. For each document, the loop prints the document's content, followed by an empty line for readability."
   ]
  },
  {
   "cell_type": "code",
   "execution_count": 4,
   "id": "bbde45c4",
   "metadata": {
    "scrolled": true
   },
   "outputs": [
    {
     "name": "stdout",
     "output_type": "stream",
     "text": [
      "('if you are a corporation , unincorporated association , partnership , sole proprietorship , business or other entity , the employee or partner for whose regular use a described automobile is supplied , and their spouse who lives with that person , will be covered when they rent an automobile , under the following conditions : both the rented automobile and the described automobile must not have a manufacturer ’ s gross vehicle weight rating of more than 4,500 kilograms . ', '.\\\\Docs\\\\Auto\\\\1215E.2.docx')\n",
      "\n",
      "('if you are a corporation , unincorporated association , partnership , sole proprietorship , business or other entity , the employee or partner for whose regular use a described automobile is supplied , and their spouse who lives with that person , will be covered when they drive the other automobile , under the following conditions : both the other automobile and the described automobile must not have a manufacturer ’ s gross vehicle weight rating of more than 4,500 kilograms . ', '.\\\\Docs\\\\Auto\\\\1215E.2.docx')\n",
      "\n",
      "('you/your/the policyholder the persons , companies , partnerships or unincorporated associations named in the schedule as the policyholder.property damage section definitions ( also refer to the policy definitions at the front of this policy wording ) the following definitions apply to this section and shall keep the same meaning wherever they appear in the section unless an alternative definition is stated to apply.damage accidental loss , destruction or damage to the property insured . ', '.\\\\Docs\\\\Property\\\\eSols Property Owners Commercial Policy Wording 2018 Policies which incepted before 01 July.docx')\n",
      "\n"
     ]
    }
   ],
   "source": [
    "query = \"If you are a corporation, unincorporated association, partnership, sole\"\n",
    "ranked_docs = rank_docs_by_tfidf(query)\n",
    "\n",
    "for i in range(0,min(3,len(ranked_docs))):\n",
    "    print(documents[ranked_docs[i]])\n",
    "    print()"
   ]
  },
  {
   "cell_type": "code",
   "execution_count": null,
   "id": "6eeef0ee",
   "metadata": {},
   "outputs": [],
   "source": []
  }
 ],
 "metadata": {
  "kernelspec": {
   "display_name": "Python 3 (ipykernel)",
   "language": "python",
   "name": "python3"
  },
  "language_info": {
   "codemirror_mode": {
    "name": "ipython",
    "version": 3
   },
   "file_extension": ".py",
   "mimetype": "text/x-python",
   "name": "python",
   "nbconvert_exporter": "python",
   "pygments_lexer": "ipython3",
   "version": "3.10.4"
  }
 },
 "nbformat": 4,
 "nbformat_minor": 5
}
