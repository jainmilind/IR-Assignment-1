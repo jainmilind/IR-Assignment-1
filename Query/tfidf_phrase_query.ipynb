{
 "cells": [
  {
   "cell_type": "markdown",
   "id": "0585744d",
   "metadata": {},
   "source": [
    "# Ranking documents based on tfidf scores\n",
    "\n",
    "TF-IDF is a technique used to evaluate the importance of words in a document or corpus. It measures the frequency of a word in a document (TF) and the importance of a word in a corpus (IDF). The score for a word is obtained by multiplying its TF and IDF values. This method is widely used in information retrieval systems to rank documents by relevance to a query."
   ]
  },
  {
   "cell_type": "code",
   "execution_count": 16,
   "id": "b38f957f",
   "metadata": {},
   "outputs": [],
   "source": [
    "from nltk.corpus import *\n",
    "from nltk.stem.porter import *\n",
    "import pickle\n",
    "from pathlib import Path\n",
    "import warnings\n",
    "warnings.filterwarnings('ignore')"
   ]
  },
  {
   "cell_type": "markdown",
   "id": "cbd5b85f",
   "metadata": {},
   "source": [
    "## Setup\n",
    "\n",
    "#### The corpus/documents are extracted from the pickle files.\n",
    "#### The inverted_index built already is extracted , which would be used for extracting term and document frequencies."
   ]
  },
  {
   "cell_type": "code",
   "execution_count": 17,
   "id": "a43073cf",
   "metadata": {},
   "outputs": [],
   "source": [
    "stemmer = PorterStemmer()\n",
    "stop_words = set(stopwords.words('english'))\n",
    "root = Path(\"../\")\n",
    "\n",
    "my_path = root / \"Pickled_files\" / \"Documents\"\n",
    "dbfile = open(my_path, 'rb')     \n",
    "documents = pickle.load(dbfile)\n",
    "dbfile.close()\n",
    "\n",
    "my_path = root / \"Pickled_files\" / \"Inverted_index\"\n",
    "dbfile = open(my_path, 'rb')     \n",
    "inverted_index = pickle.load(dbfile)\n",
    "dbfile.close()"
   ]
  },
  {
   "cell_type": "markdown",
   "id": "adf6a659",
   "metadata": {},
   "source": [
    "## Algorithm\n",
    "\n",
    "The TF-IDF scoring algorithm calculates a score for each term in the query and each document in the collection, using the following formula:\n",
    "\n",
    "**TF-IDF(term, document) = TF(term, document) * IDF(term)**\n",
    "\n",
    "where TF(term, document) is the term frequency of the term in the document, and IDF(term) is the inverse document frequency of the term. The term frequency represents the number of times a term appears in a document, while the inverse document frequency represents the rarity of the term across the collection of documents.\n",
    "\n",
    "The TF-IDF score for each term in the query is calculated in the same way. Then, for each document, the algorithm calculates the dot product between the query's TF-IDF scores and the document's TF-IDF scores. The resulting score represents the relevance of the document to the query string.\n",
    "\n",
    "By ranking the documents based on their scores, the algorithm can identify the most relevant documents for a given query. This technique is widely used in search engines and other information retrieval applications, as it provides an effective way to match documents to user queries."
   ]
  },
  {
   "cell_type": "markdown",
   "id": "ccbf1c5a",
   "metadata": {},
   "source": [
    "## Implementation\n",
    "\n",
    "The rank_docs_by_tfidf function is a Python implementation of the TF-IDF (Term Frequency-Inverse Document Frequency) algorithm used for ranking documents based on their relevance to a given query string.\n",
    "\n",
    "The function takes a query string as input and returns a list of document IDs that are ranked in descending order of their relevance to the query. The algorithm first processes the query string by removing stop words and stem each term using a stemming algorithm to reduce them to their root forms.\n",
    "\n",
    "Then, the algorithm calculates the TF-IDF score for each term in the query. It multiplies the term frequency in the query with the inverse document frequency (IDF) of the term. For each document that contains the term, it multiplies the document's TF-IDF score with the query's TF-IDF score for that term and adds the result to the document's score.\n",
    "\n",
    "Finally, the algorithm returns a list of document IDs sorted in descending order of their scores. This allows the user to quickly identify the documents that are most relevant to the query string."
   ]
  },
  {
   "cell_type": "code",
   "execution_count": 18,
   "id": "ef365a14",
   "metadata": {},
   "outputs": [],
   "source": [
    "def rank_docs_by_tfidf(query):\n",
    "    query_terms = (query.split(\" \"))\n",
    "    query_term_freq = {}\n",
    "    query_terms = [term.lower() for term in query_terms if term.lower() not in stop_words]\n",
    "    for term in query_terms:\n",
    "        if query_term_freq.get(term) == None:\n",
    "            query_term_freq[term] = 0\n",
    "        query_term_freq[term] += 1\n",
    "    query_terms = list(query_term_freq.keys())\n",
    "    \n",
    "    document_scores = {}\n",
    "    for i in range(len(documents)):\n",
    "        document_scores[i] = 0\n",
    "    \n",
    "    for term in query_terms:\n",
    "        qtf = query_term_freq[term]\n",
    "        document_freq = 1\n",
    "        normalised_term = stemmer.stem(term)\n",
    "        if inverted_index.get(normalised_term) != None:\n",
    "            document_freq += len(inverted_index[normalised_term])\n",
    "            query_score = qtf * (1/document_freq)\n",
    "            for doc in inverted_index[normalised_term]:\n",
    "                doc_score = doc[2]*(1/document_freq)\n",
    "                document_scores[doc[0]] += query_score*doc_score\n",
    "\n",
    "    ranked_docs = [doc[0] for doc in sorted(document_scores.items(),key=lambda x:x[1])[::-1]]\n",
    "    return ranked_docs"
   ]
  },
  {
   "cell_type": "markdown",
   "id": "f72660f6",
   "metadata": {},
   "source": [
    "## Sample Queries for testing the algorithm\n",
    "\n",
    "The query string is initialized and then passed to the rank_docs_by_tfidf function, which returns a list of document IDs ranked in descending order of their relevance to the query.The for loop is then used to print the top 3 documents that are most relevant to the query string. The loop iterates for a maximum of 3 times or the number of documents available, whichever is minimum. For each document, the loop prints the document's content, followed by an empty line for readability."
   ]
  },
  {
   "cell_type": "code",
   "execution_count": 19,
   "id": "7815cd91",
   "metadata": {},
   "outputs": [],
   "source": [
    "def printResults(query,ranked_docs):\n",
    "    print(query)\n",
    "    print()\n",
    "    for i in range(0,min(3,len(ranked_docs))):\n",
    "        print(documents[ranked_docs[i]][1])\n",
    "        print(documents[ranked_docs[i]][0])\n",
    "        print(\"---------------------------------------------------------------------------------------------------------------\")"
   ]
  },
  {
   "cell_type": "code",
   "execution_count": 21,
   "id": "bbde45c4",
   "metadata": {
    "scrolled": true
   },
   "outputs": [
    {
     "name": "stdout",
     "output_type": "stream",
     "text": [
      "Medical reports\n",
      "\n",
      ".\\Docs\\Auto\\AU127-1.docx\n",
      "allstate austo insurance poliacy policy : issued to : m effective : p l e d o c u m e anu127-1 t allstate insurance company stable of contents general 2 when and where the policy applies 2 changes 2 duty to report autos 2 combining limits of two or more autosa payment of benefits ; autopsy 9 consent of beneficiary 9 part 4 automobile disability income protection coverage cw 9proof of claim ; medical reports 9 prohibited 2 transfer 2 cancellation 2 insuring agreement 9 insured persons 9 definitions 9 part 1 automobilemliability insurance exclusions what is not covered 9 coverages aa and bb 3 insuring agreement 3 to whom and when payment is made 10 proof of claim ; medical reports 10 padditional payments allstate will make 3 insured persons 4 part 5 uninsured motorists insurance coverage ss 10 insured autos 4 definitions 4 insuring agreement 10 insured persons 10 exclusions what is not covered 4 definitions 11 financial responsibility .................. l 5 exclusions what is not covered 11 limits of liability 5 if there is other insurance 5 eassistance and cooperation 5 action against allstate 6 what to do in case of an auto accident or claim 6 limits of liability 11 if there is other insurance 12 proof of claim ; medical reports 12 assistance and cooperation 12 trust agreement 12 part 2 automobile medical payments coverage cc 6 payment of loss by allstate 12 action against allstate 12 insuring agreement 6 if we can not agree 13 insured persons 6 insured autos 6 definitions 7 part 6 protection against loss to the auto coverages dd , de , hh , he , hf , hg , jj , uu , za , zz 13 exclusions what is not covered 7 indsuring agreements for each coverage 13 limits of liability 7 unreasonable of unnecessary medical expenses 8 if there is other insurance 8 action against allstate 8assistance and cooperation 8 additional payments allstate will make 14 insured autos 15 exclusions what is not covered 16definitioons 15 proof of claim ; medical reports 8 right to appraisal 16 part 3 automobile death indemnity insurance coverage cm 8 payment of loss by allstate 16 climits of liability 17 insuring agreement 8 insured persons 8 definitions 9 if there is other insurance 17 action against allstate 17 usubrogation rights 17 exclusions what is not covered 9 what you must do if there is a loss 17 m e npage 1 t allstate insurance company sallstate insurance company the company named in the policy declarations a stock company ahome office : northbrook , illinois mthis policy is a legal contract between you and us . \n",
      "---------------------------------------------------------------------------------------------------------------\n",
      ".\\Docs\\Auto\\AU127-1.docx\n",
      "proof of claim ; medical reports as soon as possible , any person making claim must give us written proof of claim.the injured person may be required to take medical examinations by physicians we choose , as often as we reasonably require.we must be given authorization to obtain medical reports and copies of records pertinent to the claim . \n",
      "---------------------------------------------------------------------------------------------------------------\n",
      ".\\Docs\\Property\\Residential-Property-Owners-Policy-Wording-1910.docx\n",
      "exceptions the following exceptions apply to this section we will not indemnify you in respect of loss or damage by electronic means including but not limited to computer hacking or the introduction of any form of computer virus or corrupting or unauthorised instructions or code or the use of any electromagnetic weapon we will not indemnify you in respect of loss or damage caused by or happening through riot civil commotion war invasion act of foreign enemy hostilities ( whether war be declared or not ) civil war rebellion revolution insurrection or military or usurped power we will not indemnify you in respect of damage or any other loss or expense resulting or arising from damage to any property or any consequential loss directly or indirectly caused by or contributed to by or in connection with or arising from biological or chemical pollution or contamination we will not indemnify you in respect of loss or damage arising directly or indirectly from nuclear detonation nuclear reaction nuclear radiation or radioactive contamination however such nuclear detonation nuclear reaction nuclear radiation or radioactive contamination may have been caused we will not indemnify you in respect of loss or destruction of or damage to residential property insured in the name of a private individual engineering inspection section inspection service contract definitions the following words have been given the specific meaning set forth below and have the same meaning wherever they appear in the contract whether singular or plural normal working hours 8:00 am to 6:00 pm monday to friday excluding public bank and local holidays competent person an engineer surveyor employed and authorised by us to perform inspection service plant the machinery appliances and equipment as detailed to us inspection service thorough examination of plant in accordance with the requirements of such statutory regulations as apply to the plant or inspection of plant in compliance with good established engineering practice unless otherwise agreed in writing this term shall not include approval or verification of the fitness for purpose of any design or design features of plant performing or witnessing tests of a non-routine nature including but not limited to ultrasonic radiographic hydrostatic or other non-destructive examination or in the case of lifting and handling plant any proof load stability anchorage or similar test we shall periodically perform thorough examination/inspection of plant within normal working hours provide a written report of the thorough examination/inspection within a reasonable time provision of inspection service we shall comply with your safe systems of work provided such systems are notified to us in advance of any visit we may refuse to carry out any inspection service if at our sole discretion to do so would pose a health safety or welfare risk appoint sub-contractors to carry out all or any part of the inspection service make a charge in addition to the fee shown in the schedule if you request and we agree to perform inspection service outside normal working hours you require additional copies of reports you fail to prepare or make the plant available at the date and time agreed you require additional services or you require the competent person to undertake training specific to your own health safety and welfare procedures client responsibilities you shall be responsible for the care custody and control of the plant at all times allow us access to your site or site of operation and plant at such reasonable times as shall be agreed provide us with a safe working environment on the site on which the plant is located a safe physical means by which to gain access to perform the inspection service have the plant properly prepared dismantled and reassembled as necessary in order to enable us to carry out the appropriate inspection service cooperate with and upon request provide us with information and data relating to the plant as required in order to perform the inspection service fees we shall charge fees for the provision of the inspection service and such fees shall be subject to value added tax at the appropriate rate you shall pay the fee shown in the schedule at the beginning of the contract and at subsequent renewals of the contract if you add or delete premises during the contract term the fee will be adjusted term and termination the term of this contract is as shown in the schedule either party may terminate this contract by giving 30 days written notice to the other party if the other commits any breach of the contract confidentiality unless otherwise agreed all reports and similar material prepared by us in connection with inspection service shall be released only to you or your designated representative we may use data gathered in connection with inspection service for statistical purposes limitation of liability and indemnification neither we nor any of our employees shall be liable directly or indirectly for any damage or injury to property or persons resulting from any accident or defect in any plant nor shall we be liable directly or indirectly for loss damage or injury of any kind arising from or connected in any way with any inspection service or documentation of any inspection service or from the omission of any inspection service or documentation of any inspection service whether or not such inspection service documentation or omission was at your request neither we nor any of our employees makes any warranty express or implied concerning the activities described in this contract notwithstanding anything else in this contract to the contrary to the fullest extent permitted by law we shall not be liable to you for any special incidental indirect consequential or exemplary damages including but not limited to loss of profits or revenue loss of use loss of opportunity loss of goodwill cost of substitute facilities goods or services cost of capital governmental and regulatory sanctions and claims of third parties for such damages the total cumulative liability of us to you whether in tort or in contract for all claims losses damages and expenses resulting in any way from this contract shall not be greater than the total amount received by us from you as compensation during the contract term specified in the schedule except in the case of death or personal injury caused by our negligence or in other circumstances where liability may not be so limited under applicable law our liability under or in connection with this contract whether arising in contract tort negligence breach of statutory duty or otherwise shall not exceed the sum of £5,000,000 ( five million pounds ) upon completion of the inspection service or termination of this contract the provisions relating to indemnity waivers limitations of remedies and limitations of liability including but not limited to those contained in this section shall remain in full force and effect force majeure we shall not be liable for any delay or the consequences of any delay if such delay is due to any cause beyond our reasonable control and shall be entitled to a reasonable extension of time for performance of the contract general all matters relating to the validity performance or interpretation of this contract shall be governed by the laws of england and wales we and you hereby submit to the exclusive jurisdiction of the courts of england and wales no term of this contract is intended either expressly or by implication or other inference to purport to confer a benefit or right of action upon any third party no such third party ( whether or not in existence at the date of this contract ) is named or described herein the contracts ( rights of third parties ) act 1999 is expressly excluded to the fullest extent permitted by law the provision of inspection service under this contract does not relieve the client of any statutory obligation to have the plant inspected inspection service will only be subcontracted to suitably qualified subcontractors with the agreement of both parties and we shall retain responsibility for the execution of such work arch uk regional division arch insurance ( uk ) limited , 5th floor , plantation place south , 60 great tower street , london ec3r 5az – ( fca register no 229887 ) authorised by the prudential regulation authority and regulated by the financial conduct authority and the prudential regulation authority . \n",
      "---------------------------------------------------------------------------------------------------------------\n"
     ]
    }
   ],
   "source": [
    "input_file = open(\"phrase_input.txt\",\"r\")\n",
    "query = input_file.readline()\n",
    "ranked_docs = rank_docs_by_tfidf(query)\n",
    "printResults(query,ranked_docs)"
   ]
  },
  {
   "cell_type": "code",
   "execution_count": null,
   "id": "6eeef0ee",
   "metadata": {},
   "outputs": [],
   "source": []
  }
 ],
 "metadata": {
  "kernelspec": {
   "display_name": "Python 3 (ipykernel)",
   "language": "python",
   "name": "python3"
  },
  "language_info": {
   "codemirror_mode": {
    "name": "ipython",
    "version": 3
   },
   "file_extension": ".py",
   "mimetype": "text/x-python",
   "name": "python",
   "nbconvert_exporter": "python",
   "pygments_lexer": "ipython3",
   "version": "3.9.7"
  }
 },
 "nbformat": 4,
 "nbformat_minor": 5
}
