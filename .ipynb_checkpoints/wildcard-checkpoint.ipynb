{
 "cells": [
  {
   "cell_type": "code",
   "execution_count": 9,
   "metadata": {},
   "outputs": [],
   "source": [
    "import nltk\n",
    "from nltk.corpus import *\n",
    "from nltk.stem.porter import *\n",
    "import os\n",
    "from Constants import *\n",
    "import pickle\n",
    "from nltk.tokenize import sent_tokenize, word_tokenize\n",
    "from pathlib import Path"
   ]
  },
  {
   "cell_type": "code",
   "execution_count": 10,
   "metadata": {},
   "outputs": [],
   "source": [
    "stop_words = set(stopwords.words('english'))"
   ]
  },
  {
   "cell_type": "code",
   "execution_count": 15,
   "metadata": {},
   "outputs": [],
   "source": [
    "root = Path(\".\")\n",
    "my_path = root / \"Pickled_files\" / \"Documents\"\n",
    "dbfile = open(my_path, 'rb')     \n",
    "docs = pickle.load(dbfile)\n",
    "dbfile.close()"
   ]
  },
  {
   "cell_type": "code",
   "execution_count": 16,
   "metadata": {},
   "outputs": [],
   "source": [
    "def isnumber(token):  \n",
    "    for char in token:\n",
    "        if not (char >= '0' and char <= '9'):\n",
    "            return False\n",
    "    return True"
   ]
  },
  {
   "cell_type": "code",
   "execution_count": 17,
   "metadata": {},
   "outputs": [],
   "source": [
    "def insert(word , root) : \n",
    "    cur = 0\n",
    "    for char in word : \n",
    "        if root[cur].get(char) == None : \n",
    "            root[cur][char] = len(root)\n",
    "            root.append(dict())\n",
    "        cur = root[cur][char]\n",
    "    root[cur][\"end\"] = True\n",
    "    if root[cur].get(\"cnt\") == None : \n",
    "        root[cur][\"cnt\"] = 0\n",
    "    root[cur][\"cnt\"] += 1"
   ]
  },
  {
   "cell_type": "code",
   "execution_count": 43,
   "metadata": {},
   "outputs": [],
   "source": [
    "def wildcard(word, root , is_suf) : \n",
    "    ans = list()\n",
    "    cur = 0\n",
    "    for char in word : \n",
    "        if root[cur].get(char) == None : \n",
    "            return ans\n",
    "        cur = root[cur][char]\n",
    "    vis = dict()\n",
    "    def dfs(token , id) : \n",
    "        if vis.get(id) != None : \n",
    "            return\n",
    "        vis[id] = 1\n",
    "        if root[id].get(\"cnt\") != None:\n",
    "            if is_suf : \n",
    "                token = token[::-1]\n",
    "            ans.append((token , root[id][\"cnt\"]))\n",
    "        for labels in root[id].keys() :\n",
    "            if len(labels) > 1 :\n",
    "                continue\n",
    "            new_str = token + labels\n",
    "            dfs(new_str , root[id][labels])\n",
    "    dfs(word , cur)\n",
    "    ans = sorted(ans , key = lambda y : -y[1])\n",
    "    ret_list = list()\n",
    "    for i in range(min(3 , len(ans))) :\n",
    "        ret_list.append(ans[i])\n",
    "    return ret_list"
   ]
  },
  {
   "cell_type": "code",
   "execution_count": 44,
   "metadata": {},
   "outputs": [],
   "source": [
    "Prefix = list()\n",
    "Prefix.append(dict())\n",
    "Suffix = list()\n",
    "Suffix.append(dict())"
   ]
  },
  {
   "cell_type": "code",
   "execution_count": 45,
   "metadata": {},
   "outputs": [],
   "source": [
    "for sentence in docs: \n",
    "    sentence = sentence[0]\n",
    "    tokens = nltk.tokenize.word_tokenize(str(sentence))\n",
    "    new_token = list()\n",
    "    for i in tokens:\n",
    "        new_token.append(i.lower())\n",
    "    tokens = new_token\n",
    "    for words in new_token: \n",
    "        if words in stop_words or len(words) <= 2 or isnumber(words): \n",
    "            continue\n",
    "        insert(words , Prefix)\n",
    "        insert(words[::-1] , Suffix)"
   ]
  },
  {
   "cell_type": "code",
   "execution_count": 49,
   "metadata": {},
   "outputs": [],
   "source": [
    "my_path = root / \"Pickled_files\" / \"Prefix_wildcard\"\n",
    "dbfile = open(my_path, 'wb')\n",
    "pickle.dump(Prefix, dbfile) \n",
    "dbfile.close()\n",
    "\n",
    "my_path = root / \"Pickled_files\" / \"Suffix_wildcard\"\n",
    "dbfile = open(my_path, 'wb')\n",
    "pickle.dump(Suffix, dbfile) \n",
    "dbfile.close()"
   ]
  },
  {
   "cell_type": "code",
   "execution_count": 50,
   "metadata": {},
   "outputs": [],
   "source": [
    "my_path = root / \"Pickled_files\" / \"Prefix_wildcard\"\n",
    "dbfile = open(my_path, 'rb')     \n",
    "Prefix = pickle.load(dbfile)\n",
    "dbfile.close()\n",
    "\n",
    "my_path = root / \"Pickled_files\" / \"Suffix_wildcard\"\n",
    "dbfile = open(my_path, 'rb')     \n",
    "Suffix = pickle.load(dbfile)\n",
    "dbfile.close()"
   ]
  },
  {
   "cell_type": "code",
   "execution_count": 51,
   "metadata": {},
   "outputs": [
    {
     "name": "stdout",
     "output_type": "stream",
     "text": [
      "[('illness', 31), ('illegal', 15), ('illnesses', 4)]\n"
     ]
    }
   ],
   "source": [
    "print(wildcard(\"ill\" , Prefix , False))"
   ]
  }
 ],
 "metadata": {
  "kernelspec": {
   "display_name": "Python 3 (ipykernel)",
   "language": "python",
   "name": "python3"
  },
  "language_info": {
   "codemirror_mode": {
    "name": "ipython",
    "version": 3
   },
   "file_extension": ".py",
   "mimetype": "text/x-python",
   "name": "python",
   "nbconvert_exporter": "python",
   "pygments_lexer": "ipython3",
   "version": "3.8.8"
  },
  "vscode": {
   "interpreter": {
    "hash": "ad2bdc8ecc057115af97d19610ffacc2b4e99fae6737bb82f5d7fb13d2f2c186"
   }
  }
 },
 "nbformat": 4,
 "nbformat_minor": 2
}
