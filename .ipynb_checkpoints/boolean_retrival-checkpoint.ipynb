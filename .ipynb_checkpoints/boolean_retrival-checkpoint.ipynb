{
 "cells": [
  {
   "cell_type": "code",
   "execution_count": 1,
   "metadata": {},
   "outputs": [],
   "source": [
    "import nltk\n",
    "import textract\n",
    "from nltk.corpus import *\n",
    "from nltk.stem.porter import *\n",
    "import os\n",
    "from Constants import *\n",
    "import pickle\n",
    "from nltk.tokenize import sent_tokenize, word_tokenize\n",
    "from pathlib import Path\n"
   ]
  },
  {
   "cell_type": "code",
   "execution_count": 2,
   "metadata": {},
   "outputs": [],
   "source": [
    "# stemming porter object\n",
    "stemmer = PorterStemmer()\n",
    "stop_words = set(stopwords.words('english'))\n",
    "root = Path(\".\")"
   ]
  },
  {
   "cell_type": "code",
   "execution_count": 3,
   "metadata": {},
   "outputs": [],
   "source": [
    "my_path = root / \"Pickled_files\" / \"Inverted_index\"\n",
    "dbfile = open(my_path, 'rb')     \n",
    "inverted_idx = pickle.load(dbfile)\n",
    "dbfile.close()\n",
    "\n",
    "my_path = root / \"Pickled_files\" / \"Documents\"\n",
    "dbfile = open(my_path, 'rb')     \n",
    "documents = pickle.load(dbfile)\n",
    "dbfile.close()\n",
    "\n",
    "my_path = root / \"Pickled_files\" / \"Files\"\n",
    "dbfile = open(my_path, 'rb')     \n",
    "files_list = pickle.load(dbfile)\n",
    "dbfile.close()"
   ]
  },
  {
   "cell_type": "code",
   "execution_count": 4,
   "metadata": {},
   "outputs": [],
   "source": [
    "def boolean_retrieval(query , type) : \n",
    "    ans = list()\n",
    "    tokens = nltk.tokenize.word_tokenize(str(query))\n",
    "    new_token = list()\n",
    "    for i in tokens:\n",
    "        cur_str = i.lower()\n",
    "        if cur_str in stop_words or cur_str.isnumeric(): \n",
    "            continue\n",
    "        new_token.append(cur_str)\n",
    "    tokens = new_token\n",
    "    rank , file_id = dict() , dict()\n",
    "    set_id = list()\n",
    "    for words in tokens : \n",
    "        freq = dict()\n",
    "        normalized_word = stemmer.stem(words)\n",
    "        print(words , normalized_word)\n",
    "        if inverted_idx.get(normalized_word) == None : \n",
    "            return ans\n",
    "        ids = set()\n",
    "        for files in inverted_idx[normalized_word] : \n",
    "            ids.add(files[0])\n",
    "            file_id[files[0]] = files[1]\n",
    "            if rank.get(files[0]) == None : \n",
    "                rank[files[0]] = files[2]\n",
    "            else : \n",
    "                rank[files[0]] += files[2]\n",
    "        set_id.append(ids)\n",
    "\n",
    "    if type :   \n",
    "        merged_id = list(set.intersection(*set_id))\n",
    "    else :\n",
    "        merged_id = list(set.union(*set_id))\n",
    "    merged_id = sorted(merged_id , key = lambda y : -rank[y])\n",
    "    for i in range(0 , min(3 , len(merged_id))) : \n",
    "        ans.append((documents[merged_id[i]] , files_list[file_id[merged_id[i]]]))\n",
    "    return ans"
   ]
  },
  {
   "cell_type": "code",
   "execution_count": 5,
   "metadata": {},
   "outputs": [
    {
     "data": {
      "text/plain": [
       "[]"
      ]
     },
     "execution_count": 5,
     "metadata": {},
     "output_type": "execute_result"
    }
   ],
   "source": [
    "and_query = boolean_retrieval(\"Illegal Drumgs ComPensation\" , True)\n",
    "and_query"
   ]
  }
 ],
 "metadata": {
  "kernelspec": {
   "display_name": "Python 3 (ipykernel)",
   "language": "python",
   "name": "python3"
  },
  "language_info": {
   "codemirror_mode": {
    "name": "ipython",
    "version": 3
   },
   "file_extension": ".py",
   "mimetype": "text/x-python",
   "name": "python",
   "nbconvert_exporter": "python",
   "pygments_lexer": "ipython3",
   "version": "3.8.8"
  },
  "vscode": {
   "interpreter": {
    "hash": "ad2bdc8ecc057115af97d19610ffacc2b4e99fae6737bb82f5d7fb13d2f2c186"
   }
  }
 },
 "nbformat": 4,
 "nbformat_minor": 2
}
